{
 "cells": [
  {
   "cell_type": "markdown",
   "id": "e1caab73",
   "metadata": {},
   "source": [
    "# Project Overview\n",
    "This notebook provides an overview of the RetailNext Store Assistant project. You'll learn how to query product catalogs, analyze point-of-sale (POS) data, check inventory via the ERP system, retrieve customer details from the CRM, and look up FAQs using vector search.\n",
    "\n",
    "### You may need to configure environment variables or the database connection first\n",
    "\n",
    "### Setup: import necessary tools\n"
   ]
  },
  {
   "cell_type": "code",
   "execution_count": 1,
   "id": "2f453b2a",
   "metadata": {},
   "outputs": [],
   "source": [
    "from model_tools import store_assistant_agent\n",
    "from utils.tools import analyze_image, encode_image_to_base64\n",
    "import json"
   ]
  },
  {
   "cell_type": "markdown",
   "id": "0dfcf848",
   "metadata": {},
   "source": [
    "### Product Section\n",
    "Demonstrates how to search the product catalog using keywords and retrieve sample product entries with embeddings."
   ]
  },
  {
   "cell_type": "code",
   "execution_count": 2,
   "id": "080c2c28",
   "metadata": {},
   "outputs": [
    {
     "name": "stdout",
     "output_type": "stream",
     "text": [
      "User query: Do you have blue pants for men?\n",
      "Model Response: I found a pair of blue pants for men: Puma Men Blue Track Pants. Would you like more information about them or assistance with something else?\n",
      "Model Response: I found a pair of blue pants for men: Puma Men Blue Track Pants. Would you like more information about them or assistance with something else?\n"
     ]
    }
   ],
   "source": [
    "store_assistant_agent(\"Do you have blue pants for men?\")"
   ]
  },
  {
   "cell_type": "code",
   "execution_count": 8,
   "id": "bbca89aa",
   "metadata": {},
   "outputs": [
    {
     "name": "stdout",
     "output_type": "stream",
     "text": [
      "data/sample_images/2133.jpg\n",
      "User query: Do you have a similar shirt?Dark Blue Slim Fit Jeans\n",
      "User query: Do you have a similar shirt?Dark Blue Slim Fit Jeans\n",
      "Tool calls: [ChatCompletionMessageToolCall(id='call_CMKvvegtuE0DV7IplDnQLB9D', function=Function(arguments='{\"query\":\"similar shirt to Dark Blue Slim Fit Jeans\"}', name='get_products'), type='function')]\n",
      "Tool function name: get_products\n",
      "Tool query string: similar shirt to Dark Blue Slim Fit Jeans\n",
      "Tool calls: [ChatCompletionMessageToolCall(id='call_CMKvvegtuE0DV7IplDnQLB9D', function=Function(arguments='{\"query\":\"similar shirt to Dark Blue Slim Fit Jeans\"}', name='get_products'), type='function')]\n",
      "Tool function name: get_products\n",
      "Tool query string: similar shirt to Dark Blue Slim Fit Jeans\n",
      "Model Response: I found a similar item: the SPYKAR Men Slim Fit Free Republic Wheeler Spirit Blue Jeans. However, I don't have a specific shirt to match with it. Can you provide more details about the style or color of the shirt you're looking for?\n",
      "None\n",
      "Model Response: I found a similar item: the SPYKAR Men Slim Fit Free Republic Wheeler Spirit Blue Jeans. However, I don't have a specific shirt to match with it. Can you provide more details about the style or color of the shirt you're looking for?\n",
      "None\n"
     ]
    }
   ],
   "source": [
    "\n",
    "image_path = \"data/sample_images/\"\n",
    "test_images = [\"2133.jpg\", \"7143.jpg\", \"4226.jpg\"]\n",
    "\n",
    "# Encode the test image to base64\n",
    "reference_image = image_path + test_images[0]\n",
    "print(reference_image)\n",
    "encoded_image = encode_image_to_base64(reference_image)\n",
    "\n",
    "# Analyze the image and return the results\n",
    "analysis = analyze_image(encoded_image)\n",
    "image_analysis = json.loads(analysis)\n",
    "\n",
    "# Extract the relevant features from the analysis\n",
    "item_descs = image_analysis['items']\n",
    "\n",
    "image_answer = store_assistant_agent(\"Do you have a similar shirt?\"+item_descs[0])\n",
    "print(image_answer)"
   ]
  },
  {
   "cell_type": "markdown",
   "id": "85d85059",
   "metadata": {},
   "source": [
    "### POS Section\n",
    "Shows how to retrieve sales transactions from the POS database by executing a SQL query against the `pos` table."
   ]
  },
  {
   "cell_type": "code",
   "execution_count": 11,
   "id": "0a75b738",
   "metadata": {},
   "outputs": [
    {
     "name": "stdout",
     "output_type": "stream",
     "text": [
      "User query: What is the sales summary for product 34586?\n",
      "Tool calls: [ChatCompletionMessageToolCall(id='call_vSj6vDaMBhYZyuxu0S1JUZoz', function=Function(arguments='{\"query\":\"SELECT SUM(quantity_sold) AS total_quantity_sold, SUM(price) AS total_sales FROM pos WHERE product_id = 34586\"}', name='get_pos'), type='function')]\n",
      "Tool function name: get_pos\n",
      "Tool query string: SELECT SUM(quantity_sold) AS total_quantity_sold, SUM(price) AS total_sales FROM pos WHERE product_id = 34586\n",
      "Tool calls: [ChatCompletionMessageToolCall(id='call_vSj6vDaMBhYZyuxu0S1JUZoz', function=Function(arguments='{\"query\":\"SELECT SUM(quantity_sold) AS total_quantity_sold, SUM(price) AS total_sales FROM pos WHERE product_id = 34586\"}', name='get_pos'), type='function')]\n",
      "Tool function name: get_pos\n",
      "Tool query string: SELECT SUM(quantity_sold) AS total_quantity_sold, SUM(price) AS total_sales FROM pos WHERE product_id = 34586\n",
      "Model Response: The sales summary for product 34586 is as follows:\n",
      "- Total quantity sold: 3\n",
      "- Total sales: $40.66\n",
      "Model Response: The sales summary for product 34586 is as follows:\n",
      "- Total quantity sold: 3\n",
      "- Total sales: $40.66\n"
     ]
    }
   ],
   "source": [
    "store_assistant_agent(\"What is the sales summary for product 34586?\")"
   ]
  },
  {
   "cell_type": "markdown",
   "id": "41bcb62b",
   "metadata": {},
   "source": [
    "### ERP Section\n",
    "Illustrates how to fetch inventory and restocking information from the ERP system for a given product and store.\n"
   ]
  },
  {
   "cell_type": "code",
   "execution_count": 12,
   "id": "b0febe12",
   "metadata": {},
   "outputs": [
    {
     "name": "stdout",
     "output_type": "stream",
     "text": [
      "User query: What is the stock for product 27152?\n",
      "Tool calls: [ChatCompletionMessageToolCall(id='call_KvPuTGZapDLRkftlcnwHp9E5', function=Function(arguments='{\"query\":\"SELECT stock FROM erp WHERE product_id = 27152;\"}', name='get_erp'), type='function')]\n",
      "Tool function name: get_erp\n",
      "Tool query string: SELECT stock FROM erp WHERE product_id = 27152;\n",
      "Tool calls: [ChatCompletionMessageToolCall(id='call_KvPuTGZapDLRkftlcnwHp9E5', function=Function(arguments='{\"query\":\"SELECT stock FROM erp WHERE product_id = 27152;\"}', name='get_erp'), type='function')]\n",
      "Tool function name: get_erp\n",
      "Tool query string: SELECT stock FROM erp WHERE product_id = 27152;\n",
      "Model Response: The stock for product 27152 is 29 units.\n",
      "Model Response: The stock for product 27152 is 29 units.\n"
     ]
    }
   ],
   "source": [
    "store_assistant_agent(\"What is the stock for product 27152?\") "
   ]
  },
  {
   "cell_type": "markdown",
   "id": "7f362a05",
   "metadata": {},
   "source": [
    "### CRM Section\n",
    "Explains how to retrieve customer context such as loyalty status and preferences using the CRM function."
   ]
  },
  {
   "cell_type": "code",
   "execution_count": 13,
   "id": "1a7acc1e",
   "metadata": {},
   "outputs": [
    {
     "name": "stdout",
     "output_type": "stream",
     "text": [
      "User query: What are the customer preferences for Alice Smith?\n",
      "Tool calls: [ChatCompletionMessageToolCall(id='call_rDpkBkUdpxwuKPsSXqBDBP9E', function=Function(arguments='{\"query\":\"SELECT loyalty_status, preferred_colors, preferred_sizes FROM crm WHERE name = \\'Alice Smith\\'\"}', name='get_crm'), type='function')]\n",
      "Tool function name: get_crm\n",
      "Tool query string: SELECT loyalty_status, preferred_colors, preferred_sizes FROM crm WHERE name = 'Alice Smith'\n",
      "Tool calls: [ChatCompletionMessageToolCall(id='call_rDpkBkUdpxwuKPsSXqBDBP9E', function=Function(arguments='{\"query\":\"SELECT loyalty_status, preferred_colors, preferred_sizes FROM crm WHERE name = \\'Alice Smith\\'\"}', name='get_crm'), type='function')]\n",
      "Tool function name: get_crm\n",
      "Tool query string: SELECT loyalty_status, preferred_colors, preferred_sizes FROM crm WHERE name = 'Alice Smith'\n",
      "Model Response: Alice Smith has a loyalty status of Gold. Her preferred colors are blue and black, and she prefers sizes M and L.\n",
      "Model Response: Alice Smith has a loyalty status of Gold. Her preferred colors are blue and black, and she prefers sizes M and L.\n"
     ]
    }
   ],
   "source": [
    "store_assistant_agent(\"What are the customer preferences for Alice Smith?\")"
   ]
  },
  {
   "cell_type": "markdown",
   "id": "88196314",
   "metadata": {},
   "source": [
    "### FAQ Section\n",
    "Demonstrates retrieving answers from the FAQ database via the AI Search Q&A function."
   ]
  },
  {
   "cell_type": "code",
   "execution_count": 15,
   "id": "12ca2e77",
   "metadata": {},
   "outputs": [
    {
     "name": "stdout",
     "output_type": "stream",
     "text": [
      "User query: Is there Wi-Fi available in the store?\n",
      "Tool calls: [ChatCompletionMessageToolCall(id='call_ZsJcGBB9bMp4drh1bhm0s77C', function=Function(arguments='{\"query\":\"Is there Wi-Fi available in the store?\"}', name='get_faq'), type='function')]\n",
      "Tool function name: get_faq\n",
      "Tool query string: Is there Wi-Fi available in the store?\n",
      "Tool calls: [ChatCompletionMessageToolCall(id='call_ZsJcGBB9bMp4drh1bhm0s77C', function=Function(arguments='{\"query\":\"Is there Wi-Fi available in the store?\"}', name='get_faq'), type='function')]\n",
      "Tool function name: get_faq\n",
      "Tool query string: Is there Wi-Fi available in the store?\n",
      "Model Response: Yes, there is Wi-Fi available in the store.\n",
      "Model Response: Yes, there is Wi-Fi available in the store.\n"
     ]
    }
   ],
   "source": [
    "store_assistant_agent(\"Is there Wi-Fi available in the store?\")"
   ]
  }
 ],
 "metadata": {
  "kernelspec": {
   "display_name": "aimatchenv",
   "language": "python",
   "name": "python3"
  },
  "language_info": {
   "codemirror_mode": {
    "name": "ipython",
    "version": 3
   },
   "file_extension": ".py",
   "mimetype": "text/x-python",
   "name": "python",
   "nbconvert_exporter": "python",
   "pygments_lexer": "ipython3",
   "version": "3.13.4"
  }
 },
 "nbformat": 4,
 "nbformat_minor": 5
}
